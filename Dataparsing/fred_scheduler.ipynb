{
 "cells": [
  {
   "cell_type": "markdown",
   "metadata": {},
   "source": [
    "Go from left to right because those are most priority to least priority classes. "
   ]
  },
  {
   "cell_type": "code",
   "execution_count": 2,
   "metadata": {},
   "outputs": [],
   "source": [
    "import numpy as np \n",
    "import pandas as pd"
   ]
  },
  {
   "cell_type": "code",
   "execution_count": 12,
   "metadata": {},
   "outputs": [
    {
     "name": "stdout",
     "output_type": "stream",
     "text": [
      "Index(['Class_Title', 'Avg GPA', 'Credits', 'Times', 'Semester'], dtype='object')\n",
      "ENG–W 131 <class 'str'>\n",
      "AST-A 105\n",
      "<class 'str'>\n",
      "wtf\n",
      "BUS–C 104 <class 'str'>\n",
      "AST-A 105\n",
      "<class 'str'>\n",
      "wtf\n",
      "MATH–S 211 <class 'str'>\n",
      "AST-A 105\n",
      "<class 'str'>\n",
      "wtf\n",
      "BUS–A 100 <class 'str'>\n",
      "AST-A 105\n",
      "<class 'str'>\n",
      "wtf\n",
      "AH <class 'str'>\n",
      "AST-A 105\n",
      "<class 'str'>\n",
      "wtf\n",
      "NM <class 'str'>\n",
      "AST-A 105\n",
      "<class 'str'>\n",
      "wtf\n"
     ]
    }
   ],
   "source": [
    "list_classes = ['ENG–W 131', 'BUS–C 104', 'MATH–S 211', 'BUS–A 100', 'AH', 'NM']\n",
    "\n",
    "df = pd.read_csv('C:/Users/fredy/LuddyHacks/combined_output.csv')\n",
    "\n",
    "print(df.columns)\n",
    "for i in list_classes:\n",
    "    print(i, type(i))\n",
    "    print(df['Class_Title'][3])\n",
    "    print(type(df['Class_Title'][3]))\n",
    "    if i in set(df['Class_Title']):\n",
    "        print(f\"I am in class title {i}\")\n",
    "    else:\n",
    "        print(\"wtf\")"
   ]
  }
 ],
 "metadata": {
  "kernelspec": {
   "display_name": "Python 3",
   "language": "python",
   "name": "python3"
  },
  "language_info": {
   "codemirror_mode": {
    "name": "ipython",
    "version": 3
   },
   "file_extension": ".py",
   "mimetype": "text/x-python",
   "name": "python",
   "nbconvert_exporter": "python",
   "pygments_lexer": "ipython3",
   "version": "3.12.1"
  }
 },
 "nbformat": 4,
 "nbformat_minor": 2
}
