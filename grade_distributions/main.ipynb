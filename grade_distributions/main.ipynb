{
 "cells": [
  {
   "cell_type": "code",
   "execution_count": 2,
   "metadata": {},
   "outputs": [],
   "source": [
    "import numpy as np\n",
    "import pandas as pd\n",
    "import csv"
   ]
  },
  {
   "cell_type": "code",
   "execution_count": 66,
   "metadata": {},
   "outputs": [],
   "source": [
    "headers = ['Course Description', 'Avg GPA', 'Num Students', 'Session Description', 'ClassCode']"
   ]
  },
  {
   "cell_type": "code",
   "execution_count": 69,
   "metadata": {},
   "outputs": [],
   "source": [
    "with open(\"working_csv.csv\", mode = 'w', newline = \"\") as file:\n",
    "    writer = csv.writer(file)\n",
    "    writer.writerow(headers)\n",
    "\n",
    "#Writes the headers"
   ]
  },
  {
   "cell_type": "code",
   "execution_count": 70,
   "metadata": {},
   "outputs": [
    {
     "name": "stdout",
     "output_type": "stream",
     "text": [
      "4729\n",
      "AF AM DANCE COMPNY FOUNDATIONS ['AF AM DANCE COMPNY FOUNDATIONS', 29, 3.9140344827586206, '0', 'Regular Academic Session', 'AAAD-A 100']\n",
      "AF AM CHORAL ENSEMBL FOUNDATNS ['AF AM CHORAL ENSEMBL FOUNDATNS', 52, 3.5596153846153844, '0', 'Regular Academic Session', 'AAAD-A 110']\n",
      "ATKINS LLC FOUNDATIONAL COURSE ['ATKINS LLC FOUNDATIONAL COURSE', 65, 3.461723076923077, '0', 'Regular Academic Session', 'AAAD-A 113']\n",
      "SOUL REVUE FOUNDATIONS ['SOUL REVUE FOUNDATIONS', 33, 3.9090303030303026, '0', 'Regular Academic Session', 'AAAD-A 120']\n",
      "SURV CULTR OF BLACK AMERICANS ['SURV CULTR OF BLACK AMERICANS', 201, 3.4323781094527366, '2.8', 'Regular Academic Session', 'AAAD-A 150']\n"
     ]
    }
   ],
   "source": [
    "i = 55\n",
    "#print(\"hi?\")\n",
    "\n",
    "\n",
    "hashmap = {}\n",
    "#print(df.columns)\n",
    "final = []\n",
    "for i in range(55, 50, -1):\n",
    "    if i % 3 == 0:\n",
    "        continue\n",
    " #   print(f\"I RAN {i}\")\n",
    "    df = pd.read_csv(f'reportID_gradedist ({i}).csv')\n",
    "    for j in range(len(df)):\n",
    "        if df.iloc[j,13] == 'NR':\n",
    "            continue\n",
    "        a = (df.iloc[j,8]) #CourseName\n",
    "        b =(df.iloc[j,10]) #NUM STUDENTS\n",
    "        c=float(df.iloc[j,13]) #AVG GPA\n",
    "        d=(df.iloc[j,15])\n",
    "        e=(df.iloc[j,3])\n",
    "        tempname_1 = str(df.iloc[j, 5])\n",
    "      #  print(tempname_1)\n",
    "        tempname_2 = str(df.iloc[j, 6])\n",
    "      #  print(tempname_2)\n",
    "        temp = [a,b,c,d,e]\n",
    "        val = tempname_1 + ' ' + tempname_2\n",
    "       # print(val)\n",
    "\n",
    "        if a not in hashmap:\n",
    "            hashmap[a] = [a, b,c,d,e, val]\n",
    "          #  print(\"AJFLKDSJLSJLFK\", hashmap)\n",
    "        else:\n",
    "            hashmap[a] = [a, hashmap[a][1] + b,(hashmap[a][1] * hashmap[a][2] + b*c)/(hashmap[a][1] + b), d, e, val]\n",
    "\n",
    "\n",
    "print(len(hashmap))\n",
    "\n",
    "count =0\n",
    "for i in hashmap:\n",
    "    print(i, hashmap[i])\n",
    "    count += 1\n",
    "    if count == 5:\n",
    "        break\n",
    "        \n"
   ]
  },
  {
   "cell_type": "code",
   "execution_count": 71,
   "metadata": {},
   "outputs": [],
   "source": [
    "\n",
    "for k in hashmap:\n",
    "    with open(\"working_csv.csv\", mode = 'a', newline = \"\") as file:\n",
    "        writer = csv.writer(file)\n",
    "        writer.writerow(hashmap[k])"
   ]
  }
 ],
 "metadata": {
  "kernelspec": {
   "display_name": "Python 3",
   "language": "python",
   "name": "python3"
  },
  "language_info": {
   "codemirror_mode": {
    "name": "ipython",
    "version": 3
   },
   "file_extension": ".py",
   "mimetype": "text/x-python",
   "name": "python",
   "nbconvert_exporter": "python",
   "pygments_lexer": "ipython3",
   "version": "3.12.1"
  }
 },
 "nbformat": 4,
 "nbformat_minor": 2
}
