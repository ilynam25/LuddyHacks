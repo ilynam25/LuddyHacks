{
 "cells": [
  {
   "cell_type": "code",
   "execution_count": 2,
   "metadata": {},
   "outputs": [],
   "source": [
    "import numpy as np\n",
    "import pandas as pd\n",
    "import csv"
   ]
  },
  {
   "cell_type": "code",
   "execution_count": 3,
   "metadata": {},
   "outputs": [],
   "source": [
    "headers = ['Course Description', 'Avg GPA', 'Num Students', 'Session Description']"
   ]
  },
  {
   "cell_type": "code",
   "execution_count": 43,
   "metadata": {},
   "outputs": [],
   "source": [
    "with open(\"working_csv.csv\", mode = 'w', newline = \"\") as file:\n",
    "    writer = csv.writer(file)\n",
    "    writer.writerow(headers)\n",
    "\n",
    "#Writes the headers"
   ]
  },
  {
   "cell_type": "code",
   "execution_count": 53,
   "metadata": {},
   "outputs": [
    {
     "name": "stdout",
     "output_type": "stream",
     "text": [
      "4729\n",
      "AF AM DANCE COMPNY FOUNDATIONS ['AF AM DANCE COMPNY FOUNDATIONS', 29, 3.9140344827586206, '0', 'Regular Academic Session']\n"
     ]
    }
   ],
   "source": [
    "i = 55\n",
    "#print(\"hi?\")\n",
    "\n",
    "\n",
    "hashmap = {}\n",
    "#print(df.columns)\n",
    "final = []\n",
    "for i in range(55, 50, -1):\n",
    "    if i % 3 == 0:\n",
    "        continue\n",
    " #   print(f\"I RAN {i}\")\n",
    "    df = pd.read_csv(f'reportID_gradedist ({i}).csv')\n",
    "    for j in range(len(df)):\n",
    "        if df.iloc[j,13] == 'NR':\n",
    "            continue\n",
    "        a = (df.iloc[j,8]) #CourseName\n",
    "        b =(df.iloc[j,10]) #NUM STUDENTS\n",
    "        c=float(df.iloc[j,13]) #AVG GPA\n",
    "        d=(df.iloc[j,15])\n",
    "        e=(df.iloc[j,3])\n",
    "        temp = [a,b,c,d,e]\n",
    "\n",
    "        if a not in hashmap:\n",
    "            hashmap[a] = [a, b,c,d,e]\n",
    "          #  print(\"AJFLKDSJLSJLFK\", hashmap)\n",
    "        else:\n",
    "            hashmap[a] = [a, hashmap[a][1] + b,(hashmap[a][1] * hashmap[a][2] + b*c)/(hashmap[a][1] + b), d, e]\n",
    "\n",
    "\n",
    "print(len(hashmap))\n",
    "\n",
    "for i in hashmap:\n",
    "    print(i, hashmap[i])\n",
    "    break\n",
    "        \n"
   ]
  },
  {
   "cell_type": "code",
   "execution_count": null,
   "metadata": {},
   "outputs": [],
   "source": [
    "\n",
    "for k in hashmap:\n",
    "\n",
    "    with open(\"working_csv.csv\", mode = 'a', newline = \"\") as file:\n",
    "        writer = csv.writer(file)\n",
    "        writer.writerow(hashmap[k])"
   ]
  }
 ],
 "metadata": {
  "kernelspec": {
   "display_name": "Python 3",
   "language": "python",
   "name": "python3"
  },
  "language_info": {
   "codemirror_mode": {
    "name": "ipython",
    "version": 3
   },
   "file_extension": ".py",
   "mimetype": "text/x-python",
   "name": "python",
   "nbconvert_exporter": "python",
   "pygments_lexer": "ipython3",
   "version": "3.12.1"
  }
 },
 "nbformat": 4,
 "nbformat_minor": 2
}
